{
 "cells": [
  {
   "cell_type": "markdown",
   "metadata": {},
   "source": [
    "## The experiment: YouTube vs InnerTube\n",
    "\n",
    "### Writing:\n",
    "- Each system (YouTube and InnerTube) has 10 users—with history enabled.\n",
    "- Divide the users into two groups: conservative and liberal.\n",
    "- Based on the user's group, watch videos from the training dataset.\n",
    "\n",
    "### Reading:\n",
    "- We have 5 seeds, for each seed record the recommendations.\n",
    "- Turn off the history for all users.\n",
    "- For each user, for each seed, record the recommendations—from their system.\n",
    "- For each user, for each seed, record the recommendations—from innertube.\n",
    "- Read the homepage of the user as well and record recommendations."
   ]
  },
  {
   "cell_type": "code",
   "execution_count": 10,
   "metadata": {},
   "outputs": [],
   "source": [
    "config = {\"neutral\": [\"BYqZet73wYQ\", \"rlyVBMRXUtc\", \"hLUdF8cjzyA\", \"aSqLS8s2B4c\", \"rksKvZoUCPQ\", \"hFL6qRIJZ_Y\", \"Zh-AcF_4Hao\", \"zhwdBWLZzss\", \"uZ4MplSD9Rg\", \"WjuUmsoF57I\", \"7vBb4-E-4Qc\", \"jSoXp6wHNk8\", \"jIeyVA45TF4\", \"V9uHZ2uQ8YI\", \"JYqfVE-fykk\", \"OaKGoGXzNvs\", \"W1XcZS5Ci6M\", \"TkYuR6M0FsA\", \"CWDok7d4gY8\", \"quI772XuCpo\", \"mZWM0S2PGoc\", \"TPBq1khnb-w\"], \"conservatives\": [\"Egvs7zJrW2U\", \"X5OJRxZoMI8\", \"LW0PuRIErkU\", \"xF2lFGyADtM\", \"FKTIM5lbvqE\", \"9frDNHLvqHY\", \"JmBM_1x7Qps\", \"tJoAYpurA6k\", \"2P6erCTIC6Y\", \"PbNYOyPRpgg\", \"TOwvr-YpU1g\", \"XdsLeeQ4s_Q\", \"6aRHTwwFGlc\", \"K8M_wNf-jJI\", \"TN0yZSyDvxs\", \"d-PLgGkB3dc\", \"Bo_LLAczCf8\", \"5p1ITmmJH9E\", \"shW554zecmA\", \"VVnuCsMP7fI\", \"j9z0FNGKng4\", \"r4U0ebe1v9A\"], \"liberals\": [\"LXhuqBOSVTY\", \"p4QGOHahiVM\", \"Jymyhwc6_p0\", \"Jfo3s-JOZmQ\", \"oENI8NnTx0w\", \"LyC855KdBKo\", \"bqloPw5wp48\", \"xCIZd-BjgoI\", \"2wHX9OMP3RE\", \"CaPgDQkmqqM\", \"bKxqkwHefiw\", \"RskvZgc_s9g\", \"FhuFWoN1nb0\", \"4dOZIcFcH_Y\", \"aPhrTOg1RUk\", \"AaU6tI2pb3M\", \"AWjhFuAqaiw\", \"pi_O1Zr3XpA\", \"M-YDLjll83c\", \"rBbhZWZf0gM\", \"sE63HmOYGps\", \"7OeeHz0uNdM\", \"QlaeirHJpns\"], \"seeds\": [\"yZYQpge1W5s\", \"tYrdMjVXyNg\", \"bEh0Q94Gjss\", \"6BsXLnLn9ok\", \"Qe5WT22-AO8\"], \"youtube_emails\": [\"inner10@spartaaceap.com\", \"inner11@spartaaceap.com\", \"inner12@spartaaceap.com\", \"inner13@spartaaceap.com\", \"inner14@spartaaceap.com\", \"inner15@spartaaceap.com\", \"inner16@spartaaceap.com\", \"inner17@spartaaceap.com\", \"inner18@spartaaceap.com\", \"inner19@spartaaceap.com\"], \"10\": \"conservatives\", \"11\": \"conservatives\", \"12\": \"conservatives\", \"13\": \"conservatives\", \"14\": \"neutral\", \"15\": \"neutral\", \"16\": \"liberals\", \"17\": \"liberals\", \"18\": \"liberals\", \"19\": \"liberals\"}"
   ]
  },
  {
   "cell_type": "code",
   "execution_count": 11,
   "metadata": {},
   "outputs": [],
   "source": [
    "import sys\n",
    "sys.path.append('../')\n",
    "\n",
    "from youtube import API\n",
    "from tqdm import tqdm\n",
    "import json"
   ]
  },
  {
   "cell_type": "code",
   "execution_count": 5,
   "metadata": {},
   "outputs": [
    {
     "name": "stdout",
     "output_type": "stream",
     "text": [
      "Signing in...\n",
      "Sent request to call 'signin' with arguments ['inner10']\n",
      "Response from server: {'status': 'success', 'result': {'status': 'success', 'message': 'Signed in successfully'}}\n",
      "Signed in successfully. Proceeding with next operations.\n"
     ]
    },
    {
     "name": "stderr",
     "output_type": "stream",
     "text": [
      "100%|██████████| 22/22 [00:18<00:00,  1.21it/s]\n"
     ]
    },
    {
     "name": "stdout",
     "output_type": "stream",
     "text": [
      "Signing in...\n",
      "Sent request to call 'signin' with arguments ['inner11']\n",
      "Response from server: {'status': 'success', 'result': {'status': 'success', 'message': 'Signed in successfully'}}\n",
      "Signed in successfully. Proceeding with next operations.\n"
     ]
    },
    {
     "name": "stderr",
     "output_type": "stream",
     "text": [
      "100%|██████████| 22/22 [00:17<00:00,  1.27it/s]\n"
     ]
    },
    {
     "name": "stdout",
     "output_type": "stream",
     "text": [
      "Signing in...\n",
      "Sent request to call 'signin' with arguments ['inner12']\n",
      "Response from server: {'status': 'success', 'result': {'status': 'success', 'message': 'Signed in successfully'}}\n",
      "Signed in successfully. Proceeding with next operations.\n"
     ]
    },
    {
     "name": "stderr",
     "output_type": "stream",
     "text": [
      "100%|██████████| 22/22 [00:17<00:00,  1.26it/s]\n"
     ]
    },
    {
     "name": "stdout",
     "output_type": "stream",
     "text": [
      "Signing in...\n",
      "Sent request to call 'signin' with arguments ['inner13']\n",
      "Response from server: {'status': 'success', 'result': {'status': 'success', 'message': 'Signed in successfully'}}\n",
      "Signed in successfully. Proceeding with next operations.\n"
     ]
    },
    {
     "name": "stderr",
     "output_type": "stream",
     "text": [
      "100%|██████████| 22/22 [00:18<00:00,  1.22it/s]\n"
     ]
    },
    {
     "name": "stdout",
     "output_type": "stream",
     "text": [
      "Signing in...\n",
      "Sent request to call 'signin' with arguments ['inner14']\n",
      "Response from server: {'status': 'success', 'result': {'status': 'success', 'message': 'Signed in successfully'}}\n",
      "Signed in successfully. Proceeding with next operations.\n"
     ]
    },
    {
     "name": "stderr",
     "output_type": "stream",
     "text": [
      "100%|██████████| 22/22 [00:17<00:00,  1.26it/s]\n"
     ]
    },
    {
     "name": "stdout",
     "output_type": "stream",
     "text": [
      "Signing in...\n",
      "Sent request to call 'signin' with arguments ['inner15']\n",
      "Response from server: {'status': 'success', 'result': {'status': 'success', 'message': 'Signed in successfully'}}\n",
      "Signed in successfully. Proceeding with next operations.\n"
     ]
    },
    {
     "name": "stderr",
     "output_type": "stream",
     "text": [
      "100%|██████████| 22/22 [00:17<00:00,  1.28it/s]\n"
     ]
    },
    {
     "name": "stdout",
     "output_type": "stream",
     "text": [
      "Signing in...\n",
      "Sent request to call 'signin' with arguments ['inner16']\n",
      "Response from server: {'status': 'success', 'result': {'status': 'success', 'message': 'Signed in successfully'}}\n",
      "Signed in successfully. Proceeding with next operations.\n"
     ]
    },
    {
     "name": "stderr",
     "output_type": "stream",
     "text": [
      "100%|██████████| 23/23 [00:19<00:00,  1.18it/s]\n"
     ]
    },
    {
     "name": "stdout",
     "output_type": "stream",
     "text": [
      "Signing in...\n",
      "Sent request to call 'signin' with arguments ['inner17']\n",
      "Response from server: {'status': 'success', 'result': {'status': 'success', 'message': 'Signed in successfully'}}\n",
      "Signed in successfully. Proceeding with next operations.\n"
     ]
    },
    {
     "name": "stderr",
     "output_type": "stream",
     "text": [
      "100%|██████████| 23/23 [00:20<00:00,  1.14it/s]\n"
     ]
    },
    {
     "name": "stdout",
     "output_type": "stream",
     "text": [
      "Signing in...\n",
      "Sent request to call 'signin' with arguments ['inner18']\n",
      "Response from server: {'status': 'success', 'result': {'status': 'success', 'message': 'Signed in successfully'}}\n",
      "Signed in successfully. Proceeding with next operations.\n"
     ]
    },
    {
     "name": "stderr",
     "output_type": "stream",
     "text": [
      "100%|██████████| 23/23 [00:28<00:00,  1.22s/it]\n"
     ]
    },
    {
     "name": "stdout",
     "output_type": "stream",
     "text": [
      "Signing in...\n",
      "Sent request to call 'signin' with arguments ['inner19']\n",
      "Response from server: {'status': 'success', 'result': {'status': 'success', 'message': 'Signed in successfully'}}\n",
      "Signed in successfully. Proceeding with next operations.\n"
     ]
    },
    {
     "name": "stderr",
     "output_type": "stream",
     "text": [
      "100%|██████████| 23/23 [00:20<00:00,  1.12it/s]\n"
     ]
    }
   ],
   "source": [
    "for i in range(10, 20):\n",
    "    id = f'inner{i}'\n",
    "    email = f'{id}@spartaaceap.com'\n",
    "    password = 'password'\n",
    "    group = config[f\"{i}\"]\n",
    "    training = config[group]\n",
    "\n",
    "    ws_url = \"ws://localhost:8080\"\n",
    "    yt = API(ws_url)\n",
    "    yt.signin(id)\n",
    "\n",
    "    for vid in tqdm(training):\n",
    "        yt.addToWatchHistory(vid)\n",
    "\n",
    "    del yt"
   ]
  },
  {
   "cell_type": "code",
   "execution_count": 13,
   "metadata": {},
   "outputs": [
    {
     "name": "stdout",
     "output_type": "stream",
     "text": [
      "Signing in...\n",
      "Sent request to call 'signin' with arguments ['inner0']\n",
      "Response from server: {'status': 'success', 'result': {'status': 'success', 'message': 'Signed in successfully'}}\n",
      "Signed in successfully. Proceeding with next operations.\n"
     ]
    },
    {
     "name": "stderr",
     "output_type": "stream",
     "text": [
      "100%|██████████| 5/5 [00:03<00:00,  1.32it/s]\n"
     ]
    },
    {
     "name": "stdout",
     "output_type": "stream",
     "text": [
      "Signing in...\n",
      "Sent request to call 'signin' with arguments ['inner1']\n",
      "Response from server: {'status': 'success', 'result': {'status': 'success', 'message': 'Signed in successfully'}}\n",
      "Signed in successfully. Proceeding with next operations.\n"
     ]
    },
    {
     "name": "stderr",
     "output_type": "stream",
     "text": [
      "100%|██████████| 5/5 [00:03<00:00,  1.38it/s]\n"
     ]
    },
    {
     "name": "stdout",
     "output_type": "stream",
     "text": [
      "Signing in...\n",
      "Sent request to call 'signin' with arguments ['inner2']\n",
      "Response from server: {'status': 'success', 'result': {'status': 'success', 'message': 'Signed in successfully'}}\n",
      "Signed in successfully. Proceeding with next operations.\n"
     ]
    },
    {
     "name": "stderr",
     "output_type": "stream",
     "text": [
      "100%|██████████| 5/5 [00:03<00:00,  1.43it/s]\n"
     ]
    },
    {
     "name": "stdout",
     "output_type": "stream",
     "text": [
      "Signing in...\n",
      "Sent request to call 'signin' with arguments ['inner3']\n",
      "Response from server: {'status': 'success', 'result': {'status': 'success', 'message': 'Signed in successfully'}}\n",
      "Signed in successfully. Proceeding with next operations.\n"
     ]
    },
    {
     "name": "stderr",
     "output_type": "stream",
     "text": [
      "100%|██████████| 5/5 [00:03<00:00,  1.44it/s]\n"
     ]
    },
    {
     "name": "stdout",
     "output_type": "stream",
     "text": [
      "Signing in...\n",
      "Sent request to call 'signin' with arguments ['inner4']\n",
      "Response from server: {'status': 'success', 'result': {'status': 'success', 'message': 'Signed in successfully'}}\n",
      "Signed in successfully. Proceeding with next operations.\n"
     ]
    },
    {
     "name": "stderr",
     "output_type": "stream",
     "text": [
      "100%|██████████| 5/5 [00:03<00:00,  1.41it/s]\n"
     ]
    },
    {
     "name": "stdout",
     "output_type": "stream",
     "text": [
      "Signing in...\n",
      "Sent request to call 'signin' with arguments ['inner5']\n",
      "Response from server: {'status': 'success', 'result': {'status': 'success', 'message': 'Signed in successfully'}}\n",
      "Signed in successfully. Proceeding with next operations.\n"
     ]
    },
    {
     "name": "stderr",
     "output_type": "stream",
     "text": [
      "100%|██████████| 5/5 [00:03<00:00,  1.49it/s]\n"
     ]
    },
    {
     "name": "stdout",
     "output_type": "stream",
     "text": [
      "Signing in...\n",
      "Sent request to call 'signin' with arguments ['inner6']\n",
      "Response from server: {'status': 'success', 'result': {'status': 'success', 'message': 'Signed in successfully'}}\n",
      "Signed in successfully. Proceeding with next operations.\n"
     ]
    },
    {
     "name": "stderr",
     "output_type": "stream",
     "text": [
      "100%|██████████| 5/5 [00:03<00:00,  1.50it/s]\n"
     ]
    },
    {
     "name": "stdout",
     "output_type": "stream",
     "text": [
      "Signing in...\n",
      "Sent request to call 'signin' with arguments ['inner7']\n",
      "Response from server: {'status': 'success', 'result': {'status': 'success', 'message': 'Signed in successfully'}}\n",
      "Signed in successfully. Proceeding with next operations.\n"
     ]
    },
    {
     "name": "stderr",
     "output_type": "stream",
     "text": [
      "100%|██████████| 5/5 [00:03<00:00,  1.37it/s]\n"
     ]
    },
    {
     "name": "stdout",
     "output_type": "stream",
     "text": [
      "Signing in...\n",
      "Sent request to call 'signin' with arguments ['inner8']\n",
      "Response from server: {'status': 'success', 'result': {'status': 'success', 'message': 'Signed in successfully'}}\n",
      "Signed in successfully. Proceeding with next operations.\n"
     ]
    },
    {
     "name": "stderr",
     "output_type": "stream",
     "text": [
      "100%|██████████| 5/5 [00:03<00:00,  1.39it/s]\n"
     ]
    },
    {
     "name": "stdout",
     "output_type": "stream",
     "text": [
      "Signing in...\n",
      "Sent request to call 'signin' with arguments ['inner9']\n",
      "Response from server: {'status': 'success', 'result': {'status': 'success', 'message': 'Signed in successfully'}}\n",
      "Signed in successfully. Proceeding with next operations.\n"
     ]
    },
    {
     "name": "stderr",
     "output_type": "stream",
     "text": [
      "100%|██████████| 5/5 [00:03<00:00,  1.62it/s]\n"
     ]
    },
    {
     "name": "stdout",
     "output_type": "stream",
     "text": [
      "Signing in...\n",
      "Sent request to call 'signin' with arguments ['inner10']\n",
      "Response from server: {'status': 'success', 'result': {'status': 'success', 'message': 'Signed in successfully'}}\n",
      "Signed in successfully. Proceeding with next operations.\n"
     ]
    },
    {
     "name": "stderr",
     "output_type": "stream",
     "text": [
      "100%|██████████| 5/5 [00:03<00:00,  1.54it/s]\n"
     ]
    },
    {
     "name": "stdout",
     "output_type": "stream",
     "text": [
      "Signing in...\n",
      "Sent request to call 'signin' with arguments ['inner11']\n",
      "Response from server: {'status': 'success', 'result': {'status': 'success', 'message': 'Signed in successfully'}}\n",
      "Signed in successfully. Proceeding with next operations.\n"
     ]
    },
    {
     "name": "stderr",
     "output_type": "stream",
     "text": [
      "100%|██████████| 5/5 [00:04<00:00,  1.23it/s]\n"
     ]
    },
    {
     "name": "stdout",
     "output_type": "stream",
     "text": [
      "Signing in...\n",
      "Sent request to call 'signin' with arguments ['inner12']\n",
      "Response from server: {'status': 'success', 'result': {'status': 'success', 'message': 'Signed in successfully'}}\n",
      "Signed in successfully. Proceeding with next operations.\n"
     ]
    },
    {
     "name": "stderr",
     "output_type": "stream",
     "text": [
      "100%|██████████| 5/5 [00:03<00:00,  1.36it/s]\n"
     ]
    },
    {
     "name": "stdout",
     "output_type": "stream",
     "text": [
      "Signing in...\n",
      "Sent request to call 'signin' with arguments ['inner13']\n",
      "Response from server: {'status': 'success', 'result': {'status': 'success', 'message': 'Signed in successfully'}}\n",
      "Signed in successfully. Proceeding with next operations.\n"
     ]
    },
    {
     "name": "stderr",
     "output_type": "stream",
     "text": [
      "100%|██████████| 5/5 [00:03<00:00,  1.37it/s]\n"
     ]
    },
    {
     "name": "stdout",
     "output_type": "stream",
     "text": [
      "Signing in...\n",
      "Sent request to call 'signin' with arguments ['inner14']\n",
      "Response from server: {'status': 'success', 'result': {'status': 'success', 'message': 'Signed in successfully'}}\n",
      "Signed in successfully. Proceeding with next operations.\n"
     ]
    },
    {
     "name": "stderr",
     "output_type": "stream",
     "text": [
      "100%|██████████| 5/5 [00:04<00:00,  1.21it/s]\n"
     ]
    },
    {
     "name": "stdout",
     "output_type": "stream",
     "text": [
      "Signing in...\n",
      "Sent request to call 'signin' with arguments ['inner15']\n",
      "Response from server: {'status': 'success', 'result': {'status': 'success', 'message': 'Signed in successfully'}}\n",
      "Signed in successfully. Proceeding with next operations.\n"
     ]
    },
    {
     "name": "stderr",
     "output_type": "stream",
     "text": [
      "100%|██████████| 5/5 [00:04<00:00,  1.24it/s]\n"
     ]
    },
    {
     "name": "stdout",
     "output_type": "stream",
     "text": [
      "Signing in...\n",
      "Sent request to call 'signin' with arguments ['inner16']\n",
      "Response from server: {'status': 'success', 'result': {'status': 'success', 'message': 'Signed in successfully'}}\n",
      "Signed in successfully. Proceeding with next operations.\n"
     ]
    },
    {
     "name": "stderr",
     "output_type": "stream",
     "text": [
      "100%|██████████| 5/5 [00:03<00:00,  1.38it/s]\n"
     ]
    },
    {
     "name": "stdout",
     "output_type": "stream",
     "text": [
      "Signing in...\n",
      "Sent request to call 'signin' with arguments ['inner17']\n",
      "Response from server: {'status': 'success', 'result': {'status': 'success', 'message': 'Signed in successfully'}}\n",
      "Signed in successfully. Proceeding with next operations.\n"
     ]
    },
    {
     "name": "stderr",
     "output_type": "stream",
     "text": [
      "100%|██████████| 5/5 [00:03<00:00,  1.34it/s]\n"
     ]
    },
    {
     "name": "stdout",
     "output_type": "stream",
     "text": [
      "Signing in...\n",
      "Sent request to call 'signin' with arguments ['inner18']\n",
      "Response from server: {'status': 'success', 'result': {'status': 'success', 'message': 'Signed in successfully'}}\n",
      "Signed in successfully. Proceeding with next operations.\n"
     ]
    },
    {
     "name": "stderr",
     "output_type": "stream",
     "text": [
      "100%|██████████| 5/5 [00:05<00:00,  1.19s/it]\n"
     ]
    },
    {
     "name": "stdout",
     "output_type": "stream",
     "text": [
      "Signing in...\n",
      "Sent request to call 'signin' with arguments ['inner19']\n",
      "Response from server: {'status': 'success', 'result': {'status': 'success', 'message': 'Signed in successfully'}}\n",
      "Signed in successfully. Proceeding with next operations.\n"
     ]
    },
    {
     "name": "stderr",
     "output_type": "stream",
     "text": [
      "100%|██████████| 5/5 [00:03<00:00,  1.27it/s]\n"
     ]
    }
   ],
   "source": [
    "for i in range(0, 20):\n",
    "    id = f'inner{i}'\n",
    "    email = f'{id}@spartaaceap.com'\n",
    "    password = 'password'\n",
    "    seeds = config['seeds']\n",
    "\n",
    "    ws_url = \"ws://localhost:8080\"\n",
    "    yt = API(ws_url)\n",
    "    yt.signin(id)\n",
    "\n",
    "    recommendations = dict()\n",
    "    for seed in tqdm(seeds):\n",
    "        recommendations[seed] = yt.getRecommendations(seed)\n",
    "\n",
    "    recommendations['home'] = yt.getHomePage()\n",
    "\n",
    "    j = json.dumps(recommendations)\n",
    "    with open(f'recommendations/2{id}.json', 'w') as f:\n",
    "        f.write(j)\n",
    "    del yt"
   ]
  },
  {
   "cell_type": "code",
   "execution_count": null,
   "metadata": {},
   "outputs": [],
   "source": []
  }
 ],
 "metadata": {
  "kernelspec": {
   "display_name": "Python 3",
   "language": "python",
   "name": "python3"
  },
  "language_info": {
   "codemirror_mode": {
    "name": "ipython",
    "version": 3
   },
   "file_extension": ".py",
   "mimetype": "text/x-python",
   "name": "python",
   "nbconvert_exporter": "python",
   "pygments_lexer": "ipython3",
   "version": "3.10.4"
  }
 },
 "nbformat": 4,
 "nbformat_minor": 2
}
